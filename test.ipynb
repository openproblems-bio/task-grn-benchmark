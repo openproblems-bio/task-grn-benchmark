{
 "cells": [
  {
   "cell_type": "code",
   "execution_count": 22,
   "metadata": {},
   "outputs": [],
   "source": [
    "\n",
    "import anndata as ad \n",
    "import pandas as pd\n",
    "import numpy as np\n",
    "import scanpy as sc\n",
    "import os\n",
    "\n",
    "par = {\n",
    "    'multiomics_counts': 'resources/datasets_raw/multiome_counts.h5ad',\n",
    "    'multiomics_counts_test': 'resources_test/datasets_raw/multiome_counts_test.h5ad',\n",
    "\n",
    "    'perturbation_counts': 'resources/datasets_raw/perturbation_counts.h5ad',\n",
    "    'perturbation_counts_test': 'resources_test/datasets_raw/perturbation_counts_test.h5ad',\n",
    "\n",
    "}\n",
    "\n",
    "os.makedirs('resources_test/datasets_raw/', exist_ok=True)\n",
    "multiomics_counts = ad.read_h5ad(par['multiomics_counts'])\n",
    "# shorten multiomics_counts \n",
    "mask = multiomics_counts.obs.donor_id=='CCL-240'\n",
    "multiomics_counts_s = multiomics_counts[mask]\n",
    "# only one chr and n_cells \n",
    "if 'interval' not in multiomics_counts_s.var:\n",
    "    raise ValueError('location is not given in rna')\n",
    "chr_mask = multiomics_counts_s.var.interval.str.split(':').str[0] == 'chr1'\n",
    "multiomics_counts_s = multiomics_counts_s[multiomics_counts_s.obs.sample(2000).index, multiomics_counts_s.var.sample(2000).index]\n",
    "multiomics_counts_s.write(par['multiomics_counts_test'])\n",
    "# shorten perturbation\n",
    "perturbation_counts = ad.read_h5ad(par['perturbation_counts'])\n",
    "perturbation_counts_s = perturbation_counts[perturbation_counts.obs.donor_id=='Donor 1']\n",
    "perturbation_counts_s = perturbation_counts_s[perturbation_counts_s.obs.sample(1000).index,perturbation_counts_s.var.sample(1000).index]\n",
    "perturbation_counts_s.write(par['perturbation_counts_test'])"
   ]
  }
 ],
 "metadata": {
  "kernelspec": {
   "display_name": "py10",
   "language": "python",
   "name": "python3"
  },
  "language_info": {
   "codemirror_mode": {
    "name": "ipython",
    "version": 3
   },
   "file_extension": ".py",
   "mimetype": "text/x-python",
   "name": "python",
   "nbconvert_exporter": "python",
   "pygments_lexer": "ipython3",
   "version": "3.10.14"
  }
 },
 "nbformat": 4,
 "nbformat_minor": 2
}
